{
 "cells": [
  {
   "cell_type": "code",
   "execution_count": 4,
   "id": "5b2370fc",
   "metadata": {},
   "outputs": [],
   "source": [
    "s = \"this is My First Python programming class and i am learNING python string and its function\""
   ]
  },
  {
   "cell_type": "code",
   "execution_count": 5,
   "id": "4c196348",
   "metadata": {},
   "outputs": [
    {
     "data": {
      "text/plain": [
       "'h   r tnrrmglsnimeNGyosi dtfco'"
      ]
     },
     "execution_count": 5,
     "metadata": {},
     "output_type": "execute_result"
    }
   ],
   "source": [
    "\"\"\" 1Q . Try to extract data from index one to index 300 with a jump of 3 \"\"\"\n",
    "\n",
    "s[1:300:3]"
   ]
  },
  {
   "cell_type": "code",
   "execution_count": 6,
   "id": "39873814",
   "metadata": {},
   "outputs": [
    {
     "data": {
      "text/plain": [
       "'noitcnuf sti dna gnirts nohtyp GNINrael ma i dna ssalc gnimmargorp nohtyP tsriF yM si siht'"
      ]
     },
     "execution_count": 6,
     "metadata": {},
     "output_type": "execute_result"
    }
   ],
   "source": [
    "\"\"\"  2Q. Try to reverse a string without using reverse function\"\"\"\n",
    "\n",
    "s[::-1]"
   ]
  },
  {
   "cell_type": "code",
   "execution_count": 10,
   "id": "986146cd",
   "metadata": {},
   "outputs": [
    {
     "data": {
      "text/plain": [
       "['THIS',\n",
       " 'IS',\n",
       " 'MY',\n",
       " 'FIRST',\n",
       " 'PYTHON',\n",
       " 'PROGRAMMING',\n",
       " 'CLASS',\n",
       " 'AND',\n",
       " 'I',\n",
       " 'AM',\n",
       " 'LEARNING',\n",
       " 'PYTHON',\n",
       " 'STRING',\n",
       " 'AND',\n",
       " 'ITS',\n",
       " 'FUNCTION']"
      ]
     },
     "execution_count": 10,
     "metadata": {},
     "output_type": "execute_result"
    }
   ],
   "source": [
    "\"\"\"  3Q. Try to split a string after conversion of entire string in uppercase\"\"\"\n",
    "\n",
    "s1 = s.upper()\n",
    "s1\n",
    "s1.split()"
   ]
  },
  {
   "cell_type": "code",
   "execution_count": 11,
   "id": "6a0eef00",
   "metadata": {},
   "outputs": [
    {
     "data": {
      "text/plain": [
       "'this is my first python programming class and i am learning python string and its function'"
      ]
     },
     "execution_count": 11,
     "metadata": {},
     "output_type": "execute_result"
    }
   ],
   "source": [
    "\"\"\"  4Q. try to convert the whole string into lower case\"\"\"\n",
    "\n",
    "s.lower()"
   ]
  },
  {
   "cell_type": "code",
   "execution_count": 12,
   "id": "41971f15",
   "metadata": {},
   "outputs": [
    {
     "data": {
      "text/plain": [
       "'This is my first python programming class and i am learning python string and its function'"
      ]
     },
     "execution_count": 12,
     "metadata": {},
     "output_type": "execute_result"
    }
   ],
   "source": [
    "\"\"\"  5Q . Try to capitalize the whole string\"\"\"\n",
    "\n",
    "s.capitalize()"
   ]
  },
  {
   "cell_type": "code",
   "execution_count": 14,
   "id": "0b570523",
   "metadata": {},
   "outputs": [
    {
     "data": {
      "text/plain": [
       "'ANS: isalnum() returns True if there is atleast one alphabet or number in a string and returns False if there is atleast one special character, space, punctuation marks.\\n        Where as, isalpha() returns True only if there are only alphabets in a string and returns False otherwise.'"
      ]
     },
     "execution_count": 14,
     "metadata": {},
     "output_type": "execute_result"
    }
   ],
   "source": [
    "\"\"\"  6Q . Write a diference between isalnum() and isalpha()\"\"\"\n",
    "\n",
    "\"\"\"ANS: isalnum() returns True if there is atleast one alphabet or number in a string and returns False if there is atleast one special character, space, punctuation marks.\n",
    "        Where as, isalpha() returns True only if there are only alphabets in a string and returns False otherwise.\"\"\"\n",
    "\n"
   ]
  },
  {
   "cell_type": "code",
   "execution_count": 16,
   "id": "2bcba59f",
   "metadata": {},
   "outputs": [
    {
     "data": {
      "text/plain": [
       "'Narendra        Damodardas      Modi'"
      ]
     },
     "execution_count": 16,
     "metadata": {},
     "output_type": "execute_result"
    }
   ],
   "source": [
    "\"\"\"  7Q. Try to give an example of expand tab\"\"\"\n",
    "\n",
    "Name = \"Narendra\\tDamodardas\\tModi\"\n",
    "Name.expandtabs()"
   ]
  },
  {
   "cell_type": "code",
   "execution_count": 19,
   "id": "d0d8f8b0",
   "metadata": {},
   "outputs": [
    {
     "data": {
      "text/plain": [
       "'Narendra Damodardas Modi'"
      ]
     },
     "execution_count": 19,
     "metadata": {},
     "output_type": "execute_result"
    }
   ],
   "source": [
    "\"\"\"  8Q . Give an example of strip , lstrip and rstrip\"\"\"\n",
    "\n",
    "name = \"      Narendra Damodardas Modi      \"\n",
    "name.strip()"
   ]
  },
  {
   "cell_type": "code",
   "execution_count": 20,
   "id": "deb67f93",
   "metadata": {},
   "outputs": [
    {
     "data": {
      "text/plain": [
       "'Narendra Damodardas Modi      '"
      ]
     },
     "execution_count": 20,
     "metadata": {},
     "output_type": "execute_result"
    }
   ],
   "source": [
    "name.lstrip()"
   ]
  },
  {
   "cell_type": "code",
   "execution_count": 21,
   "id": "7e96202e",
   "metadata": {},
   "outputs": [
    {
     "data": {
      "text/plain": [
       "'      Narendra Damodardas Modi'"
      ]
     },
     "execution_count": 21,
     "metadata": {},
     "output_type": "execute_result"
    }
   ],
   "source": [
    "name.rstrip()"
   ]
  },
  {
   "cell_type": "code",
   "execution_count": 22,
   "id": "7b21a296",
   "metadata": {},
   "outputs": [
    {
     "data": {
      "text/plain": [
       "'Narendra Damodardas Modi'"
      ]
     },
     "execution_count": 22,
     "metadata": {},
     "output_type": "execute_result"
    }
   ],
   "source": [
    "\"\"\"  9Q.  Replace a string charecter by another charector by taking your own example\"\"\"\n",
    "\n",
    "PM = \"Narendra Damodardas Mody\"\n",
    "PM.replace(\"y\",\"i\")"
   ]
  },
  {
   "cell_type": "code",
   "execution_count": 47,
   "id": "3ef48d63",
   "metadata": {},
   "outputs": [
    {
     "data": {
      "text/plain": [
       "'@@@modi@@'"
      ]
     },
     "execution_count": 47,
     "metadata": {},
     "output_type": "execute_result"
    }
   ],
   "source": [
    "\"\"\"  10Q . Try  to give a defination of string center function with an example\"\"\"\n",
    "\n",
    "\"\"\"center() function is used to include any alphanumeric characters, special characters, punctuation marks, spaces before and after the string.\"\"\"\n",
    "\n",
    "a = \"modi\"\n",
    "a.center(9,\"@\")"
   ]
  },
  {
   "cell_type": "code",
   "execution_count": 51,
   "id": "c8a3a246",
   "metadata": {},
   "outputs": [
    {
     "data": {
      "text/plain": [
       "'ANS:\\n\\nCOMPILER: \\n    \\n. Compiler is a translator which takes input  i.e., high-level language, and produces an output of low-level language i.e. machine or assembly language.\\n. A compiler is more intelligent than an assembler it checks all kinds of limits, ranges, errors, etc.\\n. But compiler program run time is more and occupies a larger part of memory. It has slow speed because a compiler goes through the entire program and then translates the entire program into machine codes.\\n\\nINTERPRETER:\\n    \\n. An interpreter is a program that translates a programming language into a comprehensive language.\\n. Interpreter translates only one statement of the program at a time.\\n. Interpreters usually take less amount of time to analyze the source code. However, the overall execution time is comparatively slower than compilers.'"
      ]
     },
     "execution_count": 51,
     "metadata": {},
     "output_type": "execute_result"
    }
   ],
   "source": [
    "\"\"\"  11Q . Write your own definition of compiler and interpreter without copy paste from internet in your own language\"\"\"\n",
    "\"\"\"ANS:\n",
    "\n",
    "COMPILER: \n",
    "    \n",
    ". Compiler is a translator which takes input  i.e., high-level language, and produces an output of low-level language i.e. machine or assembly language.\n",
    ". A compiler is more intelligent than an assembler it checks all kinds of limits, ranges, errors, etc.\n",
    ". But compiler program run time is more and occupies a larger part of memory. It has slow speed because a compiler goes through the entire program and then translates the entire program into machine codes.\n",
    "\n",
    "INTERPRETER:\n",
    "    \n",
    ". An interpreter is a program that translates a programming language into a comprehensive language.\n",
    ". Interpreter translates only one statement of the program at a time.\n",
    ". Interpreters usually take less amount of time to analyze the source code. However, the overall execution time is comparatively slower than compilers.\"\"\"\n",
    "    \n",
    "    \n",
    "    "
   ]
  },
  {
   "cell_type": "code",
   "execution_count": 52,
   "id": "82d2e559",
   "metadata": {},
   "outputs": [
    {
     "data": {
      "text/plain": [
       "'ANS:\\n\\nPython program is first compiled and then interpreted. The compilation part is hidden from the programmer thus, many programmers believe that it is an interpreted language.\\nThe compilation part is done first when we execute our code and this will generate byte code and internally this byte code gets converted by the python virtual machine(pp.v.m)\\naccording to the underlying platform(machine+operating system).'"
      ]
     },
     "execution_count": 52,
     "metadata": {},
     "output_type": "execute_result"
    }
   ],
   "source": [
    "\"\"\" 12Q . Python is an interpreted or compiled language give a clear ans with your understanding\"\"\"\n",
    "\n",
    "\"\"\"ANS:\n",
    "\n",
    "Python program is first compiled and then interpreted. The compilation part is hidden from the programmer thus, many programmers believe that it is an interpreted language.\n",
    "The compilation part is done first when we execute our code and this will generate byte code and internally this byte code gets converted by the python virtual machine(pp.v.m)\n",
    "according to the underlying platform(machine+operating system).\"\"\""
   ]
  },
  {
   "cell_type": "code",
   "execution_count": null,
   "id": "0cfcd937",
   "metadata": {},
   "outputs": [],
   "source": [
    "\"\"\"  13Q . Try to write a usecase of python with your understanding .\"\"\"\n",
    "\n",
    "\"\"\"ANS:\n",
    "\n",
    "1. Powerful libraries like scikit-learn and Tensorflow make implementing popular machine learning algorithms very straightforward, and more specialized libraries exist to help with a wide variety of specific machine learning tasks from image recognition to content generation.\n",
    "2. Data engineers use Python for tasks such as building pipelines, combining datasets, cleaning data, working with APIs, automating various data processes, etc.\n",
    "3. Data scientists use python to help them extract, process and manipulate data via various Python libraries, such as Pandas and SciPy.\n",
    "4. Though Python is not popular language for game development, Python is often used by developers for building tree based algorithms and designing game levels.\n",
    "5. Python can be used to make web-applications at a rapid rate because of the frameworks Python uses to create these applications.\n",
    "6. Due to the ever-increasing use of Machine Learning, Deep Learning, and Neural Networks, the role of image (pre)processing tools has also skyrocketed. To fulfill this demand, Python offers a host of libraries(OpenCV, Scikit Image, Python Imaging Library) that simplify much of the initial preparatory tasks of a Data Scientist.\n"
   ]
  }
 ],
 "metadata": {
  "kernelspec": {
   "display_name": "Python 3 (ipykernel)",
   "language": "python",
   "name": "python3"
  },
  "language_info": {
   "codemirror_mode": {
    "name": "ipython",
    "version": 3
   },
   "file_extension": ".py",
   "mimetype": "text/x-python",
   "name": "python",
   "nbconvert_exporter": "python",
   "pygments_lexer": "ipython3",
   "version": "3.9.7"
  }
 },
 "nbformat": 4,
 "nbformat_minor": 5
}
